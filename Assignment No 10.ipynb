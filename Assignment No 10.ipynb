{
 "cells": [
  {
   "cell_type": "code",
   "execution_count": null,
   "metadata": {},
   "outputs": [],
   "source": [
    "1. How do you distinguish between shutil.copy() and shutil.copytree()?\n",
    "ANS:Shutil.copy will copy single file ,while shutil.copytree will copy an entire folder along with all contents.\n",
    "    \n",
    "2. What function is used to rename files??\n",
    "ANS:shutil.move() is uded for rename & moving files as well.\n",
    "    \n",
    "3. What is the difference between the delete functions in the send2trash and shutil modules?\n",
    "ANS:send2trash function will move file or folder to recycle bin,but delete function will permanently delete files & folders.\n",
    "    \n",
    "4.ZipFile objects have a close() method just like File objects’ close() method. What ZipFile method is equivalent to File bjects’ open() method?\n",
    "ANS:Zipfile.zipfile() function is equivalent to the open() function just like file objects.\n",
    "    \n",
    "  "
   ]
  },
  {
   "cell_type": "code",
   "execution_count": null,
   "metadata": {},
   "outputs": [],
   "source": [
    "5.Create a programme that searches a folder tree for files with a certain file extension (such as .pdf or .jpg). \n",
    "Copy these files from whatever location they are in to a new folder.\n",
    "ANS:\n"
   ]
  },
  {
   "cell_type": "code",
   "execution_count": 8,
   "metadata": {},
   "outputs": [
    {
     "name": "stdout",
     "output_type": "stream",
     "text": [
      "Current Working Directory  C:\\Users\\prati\n",
      "C:\\Users\\prati\\Documents\n",
      "C:\\Users\\prati\\Desktop\n",
      "Looking in C:\\Users\\prati\\Documents for files with extensions of  .py,.txt\n",
      "*** C:\\Users\\prati\\Documents ** ['My Music', 'My Pictures', 'My Tableau Repository', 'My Videos', 'SQL Server Management Studio'] * []\n",
      "*** C:\\Users\\prati\\Documents\\My Tableau Repository ** ['Bookmarks', 'Datasources', 'Extensions', 'Logs', 'Mapsources', 'Services', 'Shapes', 'TabOnlineSyncClient', 'Workbooks'] * []\n",
      "*** C:\\Users\\prati\\Documents\\My Tableau Repository\\Bookmarks ** [] * []\n",
      "*** C:\\Users\\prati\\Documents\\My Tableau Repository\\Datasources ** [] * []\n",
      "*** C:\\Users\\prati\\Documents\\My Tableau Repository\\Extensions ** [] * []\n",
      "*** C:\\Users\\prati\\Documents\\My Tableau Repository\\Logs ** ['TabOnlineSyncClient'] * []\n",
      "*** C:\\Users\\prati\\Documents\\My Tableau Repository\\Logs\\TabOnlineSyncClient ** [] * ['DataSyncCommand_2021_01_20_19_54_04.log', 'DataSyncCommand_2021_02_04_15_29_38.log']\n",
      "*** C:\\Users\\prati\\Documents\\My Tableau Repository\\Mapsources ** [] * []\n",
      "*** C:\\Users\\prati\\Documents\\My Tableau Repository\\Services ** [] * []\n",
      "*** C:\\Users\\prati\\Documents\\My Tableau Repository\\Shapes ** [] * []\n",
      "*** C:\\Users\\prati\\Documents\\My Tableau Repository\\TabOnlineSyncClient ** [] * []\n",
      "*** C:\\Users\\prati\\Documents\\My Tableau Repository\\Workbooks ** [] * []\n",
      "*** C:\\Users\\prati\\Documents\\SQL Server Management Studio ** [] * []\n"
     ]
    }
   ],
   "source": [
    "import shutil,os\n",
    "\n",
    "def selectiveCopy(folder,extensions,destFolder):\n",
    "    folder=os.path.abspath(folder)\n",
    "    print(folder)\n",
    "    destFolder=os.path.abspath(destFolder)\n",
    "    print(destFolder)\n",
    "    print('Looking in '+ folder+ ' for files with extensions of ', ','.join(extensions))\n",
    "    for foldername,subfolders,filenames in os.walk(folder):\n",
    "        print(\"***\",foldername, \"**\", subfolders , \"*\",filenames)\n",
    "        for file in filenames:\n",
    "            name, extension = os.path.splitext(file)\n",
    "\n",
    "            if extension in extensions:\n",
    "                fileAbsPath = foldername + os.path.sep + file\n",
    "                print('Coping', fileAbsPath, 'to', destFolder)\n",
    "                shutil.copy(fileAbsPath, destFolder)\n",
    "    \n",
    "\n",
    "print(\"Current Working Directory \" , os.getcwd())\n",
    "os.chdir(\"C:\\\\Users\\\\prati\")\n",
    "extensions=['.py','.txt']\n",
    "folder='Documents'\n",
    "destFolder='Desktop'\n",
    "selectiveCopy(folder,extensions,destFolder)"
   ]
  },
  {
   "cell_type": "code",
   "execution_count": null,
   "metadata": {},
   "outputs": [],
   "source": []
  }
 ],
 "metadata": {
  "kernelspec": {
   "display_name": "Python 3",
   "language": "python",
   "name": "python3"
  },
  "language_info": {
   "codemirror_mode": {
    "name": "ipython",
    "version": 3
   },
   "file_extension": ".py",
   "mimetype": "text/x-python",
   "name": "python",
   "nbconvert_exporter": "python",
   "pygments_lexer": "ipython3",
   "version": "3.7.3"
  }
 },
 "nbformat": 4,
 "nbformat_minor": 2
}
