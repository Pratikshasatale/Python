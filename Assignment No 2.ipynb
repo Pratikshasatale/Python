{
 "cells": [
  {
   "cell_type": "code",
   "execution_count": null,
   "metadata": {},
   "outputs": [],
   "source": [
    "1.What are the two values of the Boolean data type? How do you write them?\n",
    "ANS: True & false are the 2 values of Boolean datatype.Bool is used to test whether the result of an expression is true or false.When we need to compare two values.\n",
    "Eg.print(bool (expression))\n"
   ]
  },
  {
   "cell_type": "code",
   "execution_count": null,
   "metadata": {},
   "outputs": [],
   "source": [
    "2. What are the three different types of Boolean operators?\n",
    "ANS:AND,OR,NOT\n"
   ]
  },
  {
   "cell_type": "code",
   "execution_count": null,
   "metadata": {},
   "outputs": [],
   "source": [
    "3. Make a list of each Boolean operator's truth tables i.e. every possible combination of Boolean values \n",
    "for the operator and what it evaluate.\n",
    "\n",
    "TRUE & TRUE = TRUE      TRUE OR TRUE = TRUE        NOT TRUE is FALSE\n",
    "TRUE & FALSE = FALSE    TRUE OR FALSE = TRUE       NOT FALSE is TRUE\n",
    "FALSE & TRUE = FALSE    FALSE OR TRUE = TRUE\n",
    "FALSE & FALSE =FALSE    FALSE OR FALSE = FALSE\n"
   ]
  },
  {
   "cell_type": "code",
   "execution_count": null,
   "metadata": {},
   "outputs": [],
   "source": [
    "4. What are the values of the following expressions?\n",
    "(5 > 4) and (3 == 5)    False\n",
    "not (5 > 4)    False\n",
    "(5 > 4) or (3 == 5)    True\n",
    "not ((5 > 4) or (3 == 5))      False\n",
    "(True and True) and (True == False)     False\n",
    "(not False) or (not True)   True"
   ]
  },
  {
   "cell_type": "code",
   "execution_count": null,
   "metadata": {},
   "outputs": [],
   "source": [
    "5. What are the six comparison operators?\n",
    "=      equal to \n",
    "!=    not equal to\n",
    "<      less than\n",
    " >     Greater than\n",
    "<=     less than equal to \n",
    ">=     greater than equal to"
   ]
  },
  {
   "cell_type": "code",
   "execution_count": null,
   "metadata": {},
   "outputs": [],
   "source": [
    "6. How do you tell the difference between the equal to and assignment operators? Describe a condition and when you would use one.\n",
    "ANS:\n",
    "The “=” It is assignment operator which is used to assign the value on the right to the variable on the left. Eg.(a=10)\n",
    "\n",
    "Sample eg. \n",
    "a=10\n",
    "print(a)\n",
    "\n",
    "The “==” It is comparison or relational operator used to check 2 operands are equal or not.\n",
    "If a==10 :\n",
    "Print(“hello”)\n",
    "Else:\n",
    "Print(“buy”)\n"
   ]
  },
  {
   "cell_type": "code",
   "execution_count": null,
   "metadata": {},
   "outputs": [],
   "source": [
    "7. Identify the three blocks in this code:\n",
    "spam = 0\n",
    "if spam == 10:\n",
    "    print('eggs')\n",
    "if spam > 5:\n",
    "    print('bacon')\n",
    "else:\n",
    "    print('ham')\n",
    "    print('spam')\n",
    "    print('spam')\n"
   ]
  },
  {
   "cell_type": "code",
   "execution_count": null,
   "metadata": {},
   "outputs": [],
   "source": [
    "8. Write code that prints Hello if 1 is stored in spam, prints Howdy if 2 is stored in spam, and prints Greetings! if anything else is stored in spam.\n",
    "ANS:\n",
    "\n",
    "spam = 1\n",
    "if spam == 1: \n",
    "    print(\"Hello\")\n",
    "elif spam==2:\n",
    "    print(\"howdy\")\n",
    "else:\n",
    "    print(\"Greeting\")\n",
    "\n"
   ]
  },
  {
   "cell_type": "code",
   "execution_count": null,
   "metadata": {},
   "outputs": [],
   "source": [
    "9.If your programme is stuck in an endless loop, what keys you’ll press?\n",
    "ANS: Ctrl+C\n"
   ]
  },
  {
   "cell_type": "code",
   "execution_count": null,
   "metadata": {},
   "outputs": [],
   "source": [
    "10. How can you tell the difference between break and continue?\n",
    "ANS: The python break statement stops the loop which the statement is placed.\n",
    "The continue statement instructs loop to continue to the next iteration. \n",
    "As the name suggests the continue statement forces the loop to continue or execute the next iteration"
   ]
  },
  {
   "cell_type": "code",
   "execution_count": null,
   "metadata": {},
   "outputs": [],
   "source": [
    "11. In a for loop, what is the difference between range (10), range (0, 10), and range( 0, 10, 1)?\n",
    "ANS:\n",
    "Range (10)-range(stop)-output will be (0,1,2,3,4,5,6,7,8,9)\n",
    "Range(0,10)-range(start,stop)-output will be(0,1,2,3,4,5,6,7,8,9)\n",
    "Range(0,10,1)-range(start,stop,step)-output will be(0,1,2,3,4,5,6,7,8,9)\n",
    "All will give same output if we compare with each other but every attributes taking by range function has different meaning .\n"
   ]
  },
  {
   "cell_type": "code",
   "execution_count": null,
   "metadata": {},
   "outputs": [],
   "source": [
    "12. Write a short program that prints the numbers 1 to 10 using a for loop. Then write an equivalent program that prints the numbers 1 to 10 using a while loop.\n",
    "ANS: \n"
   ]
  },
  {
   "cell_type": "code",
   "execution_count": 5,
   "metadata": {},
   "outputs": [
    {
     "name": "stdout",
     "output_type": "stream",
     "text": [
      "1\n",
      "2\n",
      "3\n",
      "4\n",
      "5\n",
      "6\n",
      "7\n",
      "8\n",
      "9\n",
      "10\n"
     ]
    }
   ],
   "source": [
    "for i in range(1,11):\n",
    "    print(i)"
   ]
  },
  {
   "cell_type": "code",
   "execution_count": 4,
   "metadata": {},
   "outputs": [
    {
     "name": "stdout",
     "output_type": "stream",
     "text": [
      "1\n",
      "2\n",
      "3\n",
      "4\n",
      "5\n",
      "6\n",
      "7\n",
      "8\n",
      "9\n",
      "10\n"
     ]
    }
   ],
   "source": [
    "i = 1\n",
    "while i <= 10:\n",
    "    print(i)\n",
    "    i += 1"
   ]
  },
  {
   "cell_type": "code",
   "execution_count": null,
   "metadata": {},
   "outputs": [],
   "source": [
    "13. If you had a function named bacon() inside a module named spam, how would you call it after importing spam?\n",
    "ANS:\n",
    "Import spam \n",
    "Spam.bacon()"
   ]
  }
 ],
 "metadata": {
  "kernelspec": {
   "display_name": "Python 3",
   "language": "python",
   "name": "python3"
  },
  "language_info": {
   "codemirror_mode": {
    "name": "ipython",
    "version": 3
   },
   "file_extension": ".py",
   "mimetype": "text/x-python",
   "name": "python",
   "nbconvert_exporter": "python",
   "pygments_lexer": "ipython3",
   "version": "3.7.3"
  }
 },
 "nbformat": 4,
 "nbformat_minor": 2
}
