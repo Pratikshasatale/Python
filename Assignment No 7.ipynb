{
 "cells": [
  {
   "cell_type": "code",
   "execution_count": null,
   "metadata": {},
   "outputs": [],
   "source": [
    "1. What is the name of the feature responsible for generating Regex objects?\n",
    "ANS:re.compile() function generate regex objects.\n",
    "    \n",
    "2. Why do raw strings often appear in Regex objects?\n",
    "ANS:so that backslash do not have to escape.\n",
    "    \n",
    "3. What is the return value of the search() method?\n",
    "ANS:serach() will return a match if there is match found.else it will return none.\n",
    "\n",
    "4. From a Match item, how do you get the actual strings that match the pattern?\n",
    "ANS:The group() method  returns string that match the pattern.\n",
    "    \n",
    "5. In the regex which created from the r'(\\d\\d\\d)-(\\d\\d\\d-\\d\\d\\d\\d)', what does group zero cover? Group 2? Group 1?\n",
    "ANS:Group 0 covers entire match,group 1 coveres 1st set of paranthesis & group 2 coveres 2nd set of paraenthesis.   \n",
    "    \n",
    "6. In standard expression syntax, parentheses and intervals have distinct meanings. How can you tell a regex that you \n",
    "   want it to fit real parentheses and periods?\n",
    "ANS:Period & paranthesis can be escaped with backslash,\\.,\\(,\\).\n",
    "    \n",
    "7. The findall() method returns a string list or a list of string tuples. What causes it to return one of the two options?\n",
    "ANS:If regex has no groups a list of string returned & if regex has group then it will return list of string tuples.\n",
    "    \n",
    "8. In standard expressions, what does the | character mean?\n",
    "ANS: | charactergives you matching \"either, OR\" between groups. \n",
    "    \n",
    "9. In regular expressions, what does the character? stand for?\n",
    "ANS:The character ? stand for match zero or one of the preceding group or it is used to get non greedy matching.\n",
    "    \n",
    "10.In regular expressions, what is the difference between the + and * characters?\n",
    "ANS:+ matches one or more & * matches zero or more. \n",
    "    \n",
    "11. What is the difference between {4} and {4,5} in regular expression?\n",
    "ANS:The {4} matches exactly 4 instance of preceeding group,{4,5} matches between 4 & 5 instances.\n",
    "    \n",
    "12. What do you mean by the \\d, \\w, and \\s shorthand character classes signify in regular expressions?\n",
    "ANS:\\d,\\w & \\s are shorthand character classes,they match single digit ,word, space character respectively.\n",
    "    \n",
    "13. What do means by \\D, \\W, and \\S shorthand character classes signify in regular expressions?\n",
    "ANS:\\D, \\W, and \\S which are in upper case they match single character that is not digit ,word or space character.\n",
    "    \n",
    "14. What is the difference between .* and .*?\n",
    "ANS: .* perform greedy match & .*? perform non-greedy match.\n",
    "    The greedy match will try to match as many repetition as possible.\n",
    "    Where as non greedy will try to match few repition from qualified possible.\n",
    "    \n",
    "15. What is the syntax for matching both numbers and lowercase letters with a character class?\n",
    "ANS:[0-9a-z] or [a-z0-9]\n",
    "    \n",
    "16. What is the procedure for making a normal expression in regax case insensitive?\n",
    "ANS:Passing re.I or IGNORECASE as the second argument to re.compile() will make the matching case insensitive.\n",
    "    \n",
    "17. What does the . character normally match? What does it match if re.DOTALL is passed as 2nd argument in re.compile()?\n",
    "ANS:It matches any character except the newline character .reDOTALL is passed then dot will also match new line character.\n",
    "    \n",
    "18. If numReg = re.compile(r'\\d+'), what will numRegex.sub('X', '11 drummers, 10 pipers, five rings, 4 hen') return?\n",
    "ANS:The sub() call will return the string  'X drummers, X pipers, five rings, X hens'\n",
    "    \n",
    "19. What does passing re.VERBOSE as the 2nd argument to re.compile() allow to do?\n",
    "ANS:re.VERBOSE will allow you to pass whitespace & comments to string passed to re,compile.\n",
    "    \n"
   ]
  },
  {
   "cell_type": "code",
   "execution_count": null,
   "metadata": {},
   "outputs": [],
   "source": [
    "20. How would you write a regex that match a number with comma for every three digits? It must match the given following:\n",
    "'42'\n",
    "'1,234'\n",
    "'6,368,745'\n",
    "but not the following:\n",
    "'12,34,567' (which has only two digits between the commas)\n",
    "'1234' (which lacks commas)\n",
    "\n",
    "ANS:re.compile(r'^\\d{1,3}(,\\d{3})*$')"
   ]
  },
  {
   "cell_type": "code",
   "execution_count": 10,
   "metadata": {},
   "outputs": [
    {
     "data": {
      "text/plain": [
       "<re.Match object; span=(0, 2), match='42'>"
      ]
     },
     "execution_count": 10,
     "metadata": {},
     "output_type": "execute_result"
    }
   ],
   "source": [
    "import re\n",
    "numRegex=re.compile(r'^\\d{1,3}(,\\d{3})*$')\n",
    "numRegex.search('1,234')\n",
    "numRegex.search('6,368,745')\n",
    "numRegex.search('1234')\n",
    "numRegex.search('42')"
   ]
  },
  {
   "cell_type": "code",
   "execution_count": null,
   "metadata": {},
   "outputs": [],
   "source": [
    "21. How would you write a regex that matches the full name of someone whose last name is Watanabe? You can assume that the first name that comes before it will always be one word that begins with a capital letter. The regex must match the following:\n",
    "'Haruto Watanabe'\n",
    "'Alice Watanabe'\n",
    "'RoboCop Watanabe'\n",
    "but not the following:\n",
    "'haruto Watanabe' (where the first name is not capitalized)\n",
    "'Mr. Watanabe' (where the preceding word has a nonletter character)\n",
    "'Watanabe' (which has no first name)\n",
    "'Haruto watanabe' (where Watanabe is not capitalized)\n",
    "\n",
    "ANS:re.compile(r'[A-Z][a-z]*\\sWatanabe')"
   ]
  },
  {
   "cell_type": "code",
   "execution_count": 2,
   "metadata": {},
   "outputs": [
    {
     "data": {
      "text/plain": [
       "<re.Match object; span=(5, 17), match='Cop Watanabe'>"
      ]
     },
     "execution_count": 2,
     "metadata": {},
     "output_type": "execute_result"
    }
   ],
   "source": [
    "import re\n",
    "txt=re.compile(r'[A-Z][a-z]*\\sWatanabe')\n",
    "txt.search('Haruto Watanabe')\n",
    "txt.search('Alice Watanabe')\n",
    "txt.search('Robo Cop Watanabe')"
   ]
  },
  {
   "cell_type": "code",
   "execution_count": null,
   "metadata": {},
   "outputs": [],
   "source": [
    "22. How would you write a regex that matches a sentence where the first word is either Alice, Bob, or Carol; the second word is either eats, pets, or throws; the third word is apples, cats, or baseballs; and the sentence ends with a period? This regex should be case-insensitive. It must match the following:\n",
    "'Alice eats apples.'\n",
    "'Bob pets cats.'\n",
    "'Carol throws baseballs.'\n",
    "'Alice throws Apples.'\n",
    "'BOB EATS CATS.'\n",
    "but not the following:\n",
    "'RoboCop eats apples.'\n",
    "'ALICE THROWS FOOTBALLS.'\n",
    "'Carol eats 7 cats.'\n",
    "\n",
    "ANS: re.compile(r'(Alice|Bob|Carol)\\s(eats|pets|throws)\\s(apples|cats|baseballs)\\.', re.IGNORECASE)"
   ]
  },
  {
   "cell_type": "code",
   "execution_count": 3,
   "metadata": {},
   "outputs": [
    {
     "data": {
      "text/plain": [
       "<re.Match object; span=(0, 14), match='BOB EATS CATS.'>"
      ]
     },
     "execution_count": 3,
     "metadata": {},
     "output_type": "execute_result"
    }
   ],
   "source": [
    "import re\n",
    "txt=re.compile(r'(Alice|Bob|Carol)\\s+(eats|pets|throws)\\s+(apples|cats|baseballs)\\.', re.IGNORECASE)\n",
    "txt.search('Alice eats apples.')\n",
    "txt.search('Carol throws baseballs.')\n",
    "txt.search('Alice throws Apples.')\n",
    "txt.search('Carol eats 7 cats.')\n",
    "txt.search('BOB EATS CATS.')"
   ]
  },
  {
   "cell_type": "code",
   "execution_count": null,
   "metadata": {},
   "outputs": [],
   "source": []
  }
 ],
 "metadata": {
  "kernelspec": {
   "display_name": "Python 3",
   "language": "python",
   "name": "python3"
  },
  "language_info": {
   "codemirror_mode": {
    "name": "ipython",
    "version": 3
   },
   "file_extension": ".py",
   "mimetype": "text/x-python",
   "name": "python",
   "nbconvert_exporter": "python",
   "pygments_lexer": "ipython3",
   "version": "3.7.3"
  }
 },
 "nbformat": 4,
 "nbformat_minor": 2
}
