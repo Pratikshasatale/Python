{
 "cells": [
  {
   "cell_type": "code",
   "execution_count": null,
   "metadata": {},
   "outputs": [],
   "source": [
    "1. Is the Python Standard Library included with PyInputPlus?\n",
    "ANS:PyInputPlus is a third party module doesn't come with python statndard library.\n",
    "    \n",
    "2. Why is PyInputPlus commonly imported with import pyinputplus as pypi?\n",
    "ANS:To make a shorter code to type.pyip.inputStr() is shorter that typing pyInputPlus.inputstr()\n",
    "    \n",
    "3. How do you distinguish between inputInt() and inputFloat()?\n",
    "ANS:inputint() to return int value whereas inputFloat() return float value\n",
    "\n",
    "4. Using PyInputPlus, how do you ensure that the user enters a whole number between 0 and 99?\n",
    "ANS:By using this statemnet pyip.inputint(min=0,max=99)\n",
    "    \n",
    "5. What is transferred to the keyword arguments allowRegexes and blockRegexes?\n",
    "ANS:A list of regex strings either explicitly allowed or denied \n",
    "    \n",
    "6. If a blank input is entered three times, what does inputStr(limit=3) do?\n",
    "ANS:The  function will raise RetryLimitException error \n",
    "    \n",
    "7. If blank input is entered three times, what does inputStr(limit=3, default='hello') do?\n",
    "ANS:Return Value 'hello'\n"
   ]
  }
 ],
 "metadata": {
  "kernelspec": {
   "display_name": "Python 3",
   "language": "python",
   "name": "python3"
  },
  "language_info": {
   "codemirror_mode": {
    "name": "ipython",
    "version": 3
   },
   "file_extension": ".py",
   "mimetype": "text/x-python",
   "name": "python",
   "nbconvert_exporter": "python",
   "pygments_lexer": "ipython3",
   "version": "3.7.3"
  }
 },
 "nbformat": 4,
 "nbformat_minor": 2
}
